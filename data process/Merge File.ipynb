{
 "cells": [
  {
   "cell_type": "code",
   "execution_count": 3,
   "metadata": {},
   "outputs": [
    {
     "name": "stderr",
     "output_type": "stream",
     "text": [
      "Reading files: 100%|██████████| 4/4 [00:00<00:00,  4.63file/s]\n"
     ]
    },
    {
     "name": "stdout",
     "output_type": "stream",
     "text": [
      "        id_floor                       time  energy  temperature  humidity  \\\n",
      "0            fl1  2022-09-01 00:00:00+08:00   6.871        27.89     81.72   \n",
      "1            fl1  2022-09-01 00:01:00+08:00   6.796        27.91     81.63   \n",
      "2            fl1  2022-09-01 00:02:00+08:00   6.804        27.91     81.63   \n",
      "3            fl1  2022-09-01 00:03:00+08:00   6.833        27.91     81.63   \n",
      "4            fl1  2022-09-01 00:04:00+08:00   6.887        27.91     81.63   \n",
      "...          ...                        ...     ...          ...       ...   \n",
      "1204362      fl7  2022-12-31 23:55:00+08:00  60.444        29.41     53.69   \n",
      "1204363      fl7  2022-12-31 23:56:00+08:00  60.462        29.89     50.75   \n",
      "1204364      fl7  2022-12-31 23:57:00+08:00  60.355        29.89     50.75   \n",
      "1204365      fl7  2022-12-31 23:58:00+08:00  55.183        29.51     49.74   \n",
      "1204366      fl7  2022-12-31 23:59:00+08:00  53.679        29.28     54.44   \n",
      "\n",
      "         intensity  \n",
      "0              0.0  \n",
      "1              0.0  \n",
      "2              0.0  \n",
      "3              0.0  \n",
      "4              0.0  \n",
      "...            ...  \n",
      "1204362        0.0  \n",
      "1204363        0.0  \n",
      "1204364        0.0  \n",
      "1204365        0.0  \n",
      "1204366        0.0  \n",
      "\n",
      "[1204367 rows x 6 columns]\n"
     ]
    }
   ],
   "source": [
    "#โฟลเดอร์\n",
    "import os\n",
    "import pandas as pd\n",
    "from tqdm import tqdm\n",
    "\n",
    "def read_files_in_fraction(directory_path, fraction_start, fraction_end):\n",
    "    # Get a list of file names in the directory\n",
    "    file_names = os.listdir(directory_path)\n",
    "\n",
    "    # Calculate the number of files to read based on the fraction\n",
    "    num_files_to_read_start = int(len(file_names) * fraction_start)\n",
    "    num_files_to_read_end = int(len(file_names) * fraction_end)\n",
    "\n",
    "    # Initialize an empty list to store individual DataFrames\n",
    "    dataframes = []\n",
    "\n",
    "    # Use tqdm to create a progress bar for reading files\n",
    "    for file_name in tqdm(file_names[num_files_to_read_start:num_files_to_read_end], desc=\"Reading files\", unit=\"file\"):\n",
    "        if file_name.endswith('.csv'):  # Adjust the file extension based on your files (e.g., .csv, .xlsx, etc.)\n",
    "            file_path = os.path.join(directory_path, file_name)\n",
    "            df2 = pd.read_csv(file_path)  # Replace 'read_csv' with 'read_excel' for Excel files\n",
    "            dataframes.append(df2)\n",
    "\n",
    "    # Concatenate all the individual DataFrames into a single DataFrame\n",
    "    df3 = pd.concat(dataframes, ignore_index=True)\n",
    "\n",
    "    return df3\n",
    "\n",
    "# Replace 'directory_path' with the path to the directory containing your files\n",
    "directory_path = r\"E:\\Sort Data\\test\"\n",
    "\n",
    "# Read 1/4 of the files\n",
    "df = read_files_in_fraction(directory_path, 0, 1)\n",
    "\n",
    "#sort\n",
    "#df = df.sort_values(by=['id_floor','time'])\n",
    "\n",
    "#add building name\n",
    "#df['building'] = 'cham4'\n",
    "\n",
    "# Display the result\n",
    "print(df)\n",
    "\n",
    "# Export the result to a CSV file\n",
    "df.to_csv(r\"E:\\Sort Data\\cham4_test_notsort.csv\", index=False)\n",
    "\n"
   ]
  }
 ],
 "metadata": {
  "kernelspec": {
   "display_name": "Python 3",
   "language": "python",
   "name": "python3"
  },
  "language_info": {
   "codemirror_mode": {
    "name": "ipython",
    "version": 3
   },
   "file_extension": ".py",
   "mimetype": "text/x-python",
   "name": "python",
   "nbconvert_exporter": "python",
   "pygments_lexer": "ipython3",
   "version": "3.9.13"
  },
  "orig_nbformat": 4
 },
 "nbformat": 4,
 "nbformat_minor": 2
}
